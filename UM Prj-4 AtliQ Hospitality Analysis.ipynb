{
 "cells": [
  {
   "cell_type": "markdown",
   "id": "75e53c18-480b-4c88-872a-496b54d201ab",
   "metadata": {},
   "source": [
    "# **Unified Mentors Project-4 AtliQ Hospitality Analysis**"
   ]
  },
  {
   "cell_type": "markdown",
   "id": "5c01c222-0b02-4e32-bc3d-fd9a51c0b156",
   "metadata": {},
   "source": [
    "## **Domain:- Travel & Tourism**"
   ]
  },
  {
   "cell_type": "markdown",
   "id": "33634908-8e73-457c-addd-9050339eed7a",
   "metadata": {},
   "source": [
    "### **Author:- Gowtham Vinayagamurthy**"
   ]
  },
  {
   "cell_type": "markdown",
   "id": "fd3acf2d-c80d-4f4e-8742-ff5de1ccc458",
   "metadata": {},
   "source": [
    "### **IDE:- Jupyter Notebook**"
   ]
  },
  {
   "cell_type": "markdown",
   "id": "4afb5ee9-6553-4af8-b60b-f055e8a0b1d2",
   "metadata": {},
   "source": [
    "### **Problem Statement**\n",
    "Atliq Grands owns multiple five-star hotels across India. They have been in the hospitality \n",
    "industry for the past 20 years. Due to strategic moves from other competitors and ineffectiv \r\n",
    "decision-making in management, Atliq Grands are losing its market share and revenue in t e\r\n",
    "luxury/business hotels category. As a strategic move, the managing director of Atliq Gra ds\r\n",
    "wanted to incorporate “Business and Data Intelligence” in order to regain their market s are\r\n",
    "and rev nue.\r\n",
    "However, they do not have an in-house data analytics team to provide them with these\r\n",
    "insights. Their revenue management team had decided to hire a 3rd party service prov der to\r\n",
    "provide them with insights from their historicl data.\r\n"
   ]
  },
  {
   "cell_type": "code",
   "execution_count": 1,
   "id": "443541d2-db07-4795-938a-4e5ec7251aae",
   "metadata": {},
   "outputs": [],
   "source": [
    "# To import the required libraries\n",
    "import pandas as pd\n",
    "import numpy as np\n",
    "import matplotlib.pyplot as plt\n",
    "import seaborn as sns\n",
    "import os\n",
    "import warnings\n",
    "warnings.filterwarnings('ignore')"
   ]
  },
  {
   "cell_type": "code",
   "execution_count": 2,
   "id": "d8b44f1f-71d2-4c20-82e1-9fe0cacb0307",
   "metadata": {},
   "outputs": [],
   "source": [
    "# Load the required data\n",
    "dim_date = pd.read_csv('dim_date.csv')\n",
    "dim_hotels = pd.read_csv('dim_hotels.csv')\n",
    "dim_rooms = pd.read_csv('dim_rooms.csv')\n",
    "fact_aggregated_bookings = pd.read_csv('fact_aggregated_bookings.csv')\n",
    "fact_bookings = pd.read_csv('fact_bookings.csv')"
   ]
  },
  {
   "cell_type": "code",
   "execution_count": 3,
   "id": "9d4eefa4-0738-4dc4-be82-a0a23acd14f1",
   "metadata": {},
   "outputs": [
    {
     "name": "stdout",
     "output_type": "stream",
     "text": [
      "<class 'pandas.core.frame.DataFrame'>\n",
      "RangeIndex: 92 entries, 0 to 91\n",
      "Data columns (total 4 columns):\n",
      " #   Column    Non-Null Count  Dtype \n",
      "---  ------    --------------  ----- \n",
      " 0   date      92 non-null     object\n",
      " 1   mmm yy    92 non-null     object\n",
      " 2   week no   92 non-null     object\n",
      " 3   day_type  92 non-null     object\n",
      "dtypes: object(4)\n",
      "memory usage: 3.0+ KB\n"
     ]
    }
   ],
   "source": [
    "dim_date.info()"
   ]
  },
  {
   "cell_type": "code",
   "execution_count": 4,
   "id": "65b713c5-2ef9-4cfa-9d9f-b1425ddb53ff",
   "metadata": {},
   "outputs": [
    {
     "data": {
      "text/html": [
       "<div>\n",
       "<style scoped>\n",
       "    .dataframe tbody tr th:only-of-type {\n",
       "        vertical-align: middle;\n",
       "    }\n",
       "\n",
       "    .dataframe tbody tr th {\n",
       "        vertical-align: top;\n",
       "    }\n",
       "\n",
       "    .dataframe thead th {\n",
       "        text-align: right;\n",
       "    }\n",
       "</style>\n",
       "<table border=\"1\" class=\"dataframe\">\n",
       "  <thead>\n",
       "    <tr style=\"text-align: right;\">\n",
       "      <th></th>\n",
       "      <th>date</th>\n",
       "      <th>mmm yy</th>\n",
       "      <th>week no</th>\n",
       "      <th>day_type</th>\n",
       "    </tr>\n",
       "  </thead>\n",
       "  <tbody>\n",
       "    <tr>\n",
       "      <th>0</th>\n",
       "      <td>01-May-22</td>\n",
       "      <td>May 22</td>\n",
       "      <td>W 19</td>\n",
       "      <td>weekend</td>\n",
       "    </tr>\n",
       "    <tr>\n",
       "      <th>1</th>\n",
       "      <td>02-May-22</td>\n",
       "      <td>May 22</td>\n",
       "      <td>W 19</td>\n",
       "      <td>weekeday</td>\n",
       "    </tr>\n",
       "    <tr>\n",
       "      <th>2</th>\n",
       "      <td>03-May-22</td>\n",
       "      <td>May 22</td>\n",
       "      <td>W 19</td>\n",
       "      <td>weekeday</td>\n",
       "    </tr>\n",
       "    <tr>\n",
       "      <th>3</th>\n",
       "      <td>04-May-22</td>\n",
       "      <td>May 22</td>\n",
       "      <td>W 19</td>\n",
       "      <td>weekeday</td>\n",
       "    </tr>\n",
       "    <tr>\n",
       "      <th>4</th>\n",
       "      <td>05-May-22</td>\n",
       "      <td>May 22</td>\n",
       "      <td>W 19</td>\n",
       "      <td>weekeday</td>\n",
       "    </tr>\n",
       "  </tbody>\n",
       "</table>\n",
       "</div>"
      ],
      "text/plain": [
       "        date  mmm yy week no  day_type\n",
       "0  01-May-22  May 22    W 19   weekend\n",
       "1  02-May-22  May 22    W 19  weekeday\n",
       "2  03-May-22  May 22    W 19  weekeday\n",
       "3  04-May-22  May 22    W 19  weekeday\n",
       "4  05-May-22  May 22    W 19  weekeday"
      ]
     },
     "execution_count": 4,
     "metadata": {},
     "output_type": "execute_result"
    }
   ],
   "source": [
    "dim_date.head()"
   ]
  },
  {
   "cell_type": "code",
   "execution_count": 5,
   "id": "0c682f5b-d8dc-461b-a6eb-c85f6712c966",
   "metadata": {},
   "outputs": [
    {
     "data": {
      "text/html": [
       "<div>\n",
       "<style scoped>\n",
       "    .dataframe tbody tr th:only-of-type {\n",
       "        vertical-align: middle;\n",
       "    }\n",
       "\n",
       "    .dataframe tbody tr th {\n",
       "        vertical-align: top;\n",
       "    }\n",
       "\n",
       "    .dataframe thead th {\n",
       "        text-align: right;\n",
       "    }\n",
       "</style>\n",
       "<table border=\"1\" class=\"dataframe\">\n",
       "  <thead>\n",
       "    <tr style=\"text-align: right;\">\n",
       "      <th></th>\n",
       "      <th>date</th>\n",
       "      <th>mmm yy</th>\n",
       "      <th>week no</th>\n",
       "      <th>day_type</th>\n",
       "    </tr>\n",
       "  </thead>\n",
       "  <tbody>\n",
       "    <tr>\n",
       "      <th>count</th>\n",
       "      <td>92</td>\n",
       "      <td>92</td>\n",
       "      <td>92</td>\n",
       "      <td>92</td>\n",
       "    </tr>\n",
       "    <tr>\n",
       "      <th>unique</th>\n",
       "      <td>92</td>\n",
       "      <td>3</td>\n",
       "      <td>14</td>\n",
       "      <td>2</td>\n",
       "    </tr>\n",
       "    <tr>\n",
       "      <th>top</th>\n",
       "      <td>01-May-22</td>\n",
       "      <td>May 22</td>\n",
       "      <td>W 19</td>\n",
       "      <td>weekeday</td>\n",
       "    </tr>\n",
       "    <tr>\n",
       "      <th>freq</th>\n",
       "      <td>1</td>\n",
       "      <td>31</td>\n",
       "      <td>7</td>\n",
       "      <td>65</td>\n",
       "    </tr>\n",
       "  </tbody>\n",
       "</table>\n",
       "</div>"
      ],
      "text/plain": [
       "             date  mmm yy week no  day_type\n",
       "count          92      92      92        92\n",
       "unique         92       3      14         2\n",
       "top     01-May-22  May 22    W 19  weekeday\n",
       "freq            1      31       7        65"
      ]
     },
     "execution_count": 5,
     "metadata": {},
     "output_type": "execute_result"
    }
   ],
   "source": [
    "dim_date.describe()"
   ]
  },
  {
   "cell_type": "code",
   "execution_count": 6,
   "id": "9f64a100-0123-4593-b8e5-24af74d47413",
   "metadata": {},
   "outputs": [
    {
     "name": "stdout",
     "output_type": "stream",
     "text": [
      "<class 'pandas.core.frame.DataFrame'>\n",
      "RangeIndex: 25 entries, 0 to 24\n",
      "Data columns (total 4 columns):\n",
      " #   Column         Non-Null Count  Dtype \n",
      "---  ------         --------------  ----- \n",
      " 0   property_id    25 non-null     int64 \n",
      " 1   property_name  25 non-null     object\n",
      " 2   category       25 non-null     object\n",
      " 3   city           25 non-null     object\n",
      "dtypes: int64(1), object(3)\n",
      "memory usage: 932.0+ bytes\n"
     ]
    }
   ],
   "source": [
    "dim_hotels.info()"
   ]
  },
  {
   "cell_type": "code",
   "execution_count": 7,
   "id": "ddcce346-fea7-4cbd-a43b-aee3703ed548",
   "metadata": {},
   "outputs": [
    {
     "data": {
      "text/html": [
       "<div>\n",
       "<style scoped>\n",
       "    .dataframe tbody tr th:only-of-type {\n",
       "        vertical-align: middle;\n",
       "    }\n",
       "\n",
       "    .dataframe tbody tr th {\n",
       "        vertical-align: top;\n",
       "    }\n",
       "\n",
       "    .dataframe thead th {\n",
       "        text-align: right;\n",
       "    }\n",
       "</style>\n",
       "<table border=\"1\" class=\"dataframe\">\n",
       "  <thead>\n",
       "    <tr style=\"text-align: right;\">\n",
       "      <th></th>\n",
       "      <th>property_id</th>\n",
       "      <th>property_name</th>\n",
       "      <th>category</th>\n",
       "      <th>city</th>\n",
       "    </tr>\n",
       "  </thead>\n",
       "  <tbody>\n",
       "    <tr>\n",
       "      <th>0</th>\n",
       "      <td>16558</td>\n",
       "      <td>Atliq Grands</td>\n",
       "      <td>Luxury</td>\n",
       "      <td>Delhi</td>\n",
       "    </tr>\n",
       "    <tr>\n",
       "      <th>1</th>\n",
       "      <td>16559</td>\n",
       "      <td>Atliq Exotica</td>\n",
       "      <td>Luxury</td>\n",
       "      <td>Mumbai</td>\n",
       "    </tr>\n",
       "    <tr>\n",
       "      <th>2</th>\n",
       "      <td>16560</td>\n",
       "      <td>Atliq City</td>\n",
       "      <td>Business</td>\n",
       "      <td>Delhi</td>\n",
       "    </tr>\n",
       "    <tr>\n",
       "      <th>3</th>\n",
       "      <td>16561</td>\n",
       "      <td>Atliq Blu</td>\n",
       "      <td>Luxury</td>\n",
       "      <td>Delhi</td>\n",
       "    </tr>\n",
       "    <tr>\n",
       "      <th>4</th>\n",
       "      <td>16562</td>\n",
       "      <td>Atliq Bay</td>\n",
       "      <td>Luxury</td>\n",
       "      <td>Delhi</td>\n",
       "    </tr>\n",
       "  </tbody>\n",
       "</table>\n",
       "</div>"
      ],
      "text/plain": [
       "   property_id  property_name  category    city\n",
       "0        16558   Atliq Grands    Luxury   Delhi\n",
       "1        16559  Atliq Exotica    Luxury  Mumbai\n",
       "2        16560     Atliq City  Business   Delhi\n",
       "3        16561      Atliq Blu    Luxury   Delhi\n",
       "4        16562      Atliq Bay    Luxury   Delhi"
      ]
     },
     "execution_count": 7,
     "metadata": {},
     "output_type": "execute_result"
    }
   ],
   "source": [
    "dim_hotels.head()"
   ]
  },
  {
   "cell_type": "code",
   "execution_count": 8,
   "id": "7cb4cf6f-b327-4e1c-a723-7ff2ce3ab304",
   "metadata": {},
   "outputs": [
    {
     "data": {
      "text/html": [
       "<div>\n",
       "<style scoped>\n",
       "    .dataframe tbody tr th:only-of-type {\n",
       "        vertical-align: middle;\n",
       "    }\n",
       "\n",
       "    .dataframe tbody tr th {\n",
       "        vertical-align: top;\n",
       "    }\n",
       "\n",
       "    .dataframe thead th {\n",
       "        text-align: right;\n",
       "    }\n",
       "</style>\n",
       "<table border=\"1\" class=\"dataframe\">\n",
       "  <thead>\n",
       "    <tr style=\"text-align: right;\">\n",
       "      <th></th>\n",
       "      <th>property_id</th>\n",
       "    </tr>\n",
       "  </thead>\n",
       "  <tbody>\n",
       "    <tr>\n",
       "      <th>count</th>\n",
       "      <td>25.000000</td>\n",
       "    </tr>\n",
       "    <tr>\n",
       "      <th>mean</th>\n",
       "      <td>18040.640000</td>\n",
       "    </tr>\n",
       "    <tr>\n",
       "      <th>std</th>\n",
       "      <td>1122.436371</td>\n",
       "    </tr>\n",
       "    <tr>\n",
       "      <th>min</th>\n",
       "      <td>16558.000000</td>\n",
       "    </tr>\n",
       "    <tr>\n",
       "      <th>25%</th>\n",
       "      <td>17558.000000</td>\n",
       "    </tr>\n",
       "    <tr>\n",
       "      <th>50%</th>\n",
       "      <td>17564.000000</td>\n",
       "    </tr>\n",
       "    <tr>\n",
       "      <th>75%</th>\n",
       "      <td>18563.000000</td>\n",
       "    </tr>\n",
       "    <tr>\n",
       "      <th>max</th>\n",
       "      <td>19563.000000</td>\n",
       "    </tr>\n",
       "  </tbody>\n",
       "</table>\n",
       "</div>"
      ],
      "text/plain": [
       "        property_id\n",
       "count     25.000000\n",
       "mean   18040.640000\n",
       "std     1122.436371\n",
       "min    16558.000000\n",
       "25%    17558.000000\n",
       "50%    17564.000000\n",
       "75%    18563.000000\n",
       "max    19563.000000"
      ]
     },
     "execution_count": 8,
     "metadata": {},
     "output_type": "execute_result"
    }
   ],
   "source": [
    "dim_hotels.describe()"
   ]
  },
  {
   "cell_type": "code",
   "execution_count": 9,
   "id": "2b2956a8-e7e6-4557-86b6-315807b7aeb1",
   "metadata": {},
   "outputs": [
    {
     "name": "stdout",
     "output_type": "stream",
     "text": [
      "<class 'pandas.core.frame.DataFrame'>\n",
      "RangeIndex: 4 entries, 0 to 3\n",
      "Data columns (total 2 columns):\n",
      " #   Column      Non-Null Count  Dtype \n",
      "---  ------      --------------  ----- \n",
      " 0   room_id     4 non-null      object\n",
      " 1   room_class  4 non-null      object\n",
      "dtypes: object(2)\n",
      "memory usage: 196.0+ bytes\n"
     ]
    }
   ],
   "source": [
    "dim_rooms.info()"
   ]
  },
  {
   "cell_type": "code",
   "execution_count": 10,
   "id": "a3df1c6f-690a-41bd-b795-8d4a1f6efc51",
   "metadata": {},
   "outputs": [
    {
     "data": {
      "text/html": [
       "<div>\n",
       "<style scoped>\n",
       "    .dataframe tbody tr th:only-of-type {\n",
       "        vertical-align: middle;\n",
       "    }\n",
       "\n",
       "    .dataframe tbody tr th {\n",
       "        vertical-align: top;\n",
       "    }\n",
       "\n",
       "    .dataframe thead th {\n",
       "        text-align: right;\n",
       "    }\n",
       "</style>\n",
       "<table border=\"1\" class=\"dataframe\">\n",
       "  <thead>\n",
       "    <tr style=\"text-align: right;\">\n",
       "      <th></th>\n",
       "      <th>room_id</th>\n",
       "      <th>room_class</th>\n",
       "    </tr>\n",
       "  </thead>\n",
       "  <tbody>\n",
       "    <tr>\n",
       "      <th>0</th>\n",
       "      <td>RT1</td>\n",
       "      <td>Standard</td>\n",
       "    </tr>\n",
       "    <tr>\n",
       "      <th>1</th>\n",
       "      <td>RT2</td>\n",
       "      <td>Elite</td>\n",
       "    </tr>\n",
       "    <tr>\n",
       "      <th>2</th>\n",
       "      <td>RT3</td>\n",
       "      <td>Premium</td>\n",
       "    </tr>\n",
       "    <tr>\n",
       "      <th>3</th>\n",
       "      <td>RT4</td>\n",
       "      <td>Presidential</td>\n",
       "    </tr>\n",
       "  </tbody>\n",
       "</table>\n",
       "</div>"
      ],
      "text/plain": [
       "  room_id    room_class\n",
       "0     RT1      Standard\n",
       "1     RT2         Elite\n",
       "2     RT3       Premium\n",
       "3     RT4  Presidential"
      ]
     },
     "execution_count": 10,
     "metadata": {},
     "output_type": "execute_result"
    }
   ],
   "source": [
    "dim_rooms.head()"
   ]
  },
  {
   "cell_type": "code",
   "execution_count": 11,
   "id": "2dda2c1e-9679-4f3d-a0a8-51a5b6fc4937",
   "metadata": {},
   "outputs": [
    {
     "data": {
      "text/html": [
       "<div>\n",
       "<style scoped>\n",
       "    .dataframe tbody tr th:only-of-type {\n",
       "        vertical-align: middle;\n",
       "    }\n",
       "\n",
       "    .dataframe tbody tr th {\n",
       "        vertical-align: top;\n",
       "    }\n",
       "\n",
       "    .dataframe thead th {\n",
       "        text-align: right;\n",
       "    }\n",
       "</style>\n",
       "<table border=\"1\" class=\"dataframe\">\n",
       "  <thead>\n",
       "    <tr style=\"text-align: right;\">\n",
       "      <th></th>\n",
       "      <th>room_id</th>\n",
       "      <th>room_class</th>\n",
       "    </tr>\n",
       "  </thead>\n",
       "  <tbody>\n",
       "    <tr>\n",
       "      <th>count</th>\n",
       "      <td>4</td>\n",
       "      <td>4</td>\n",
       "    </tr>\n",
       "    <tr>\n",
       "      <th>unique</th>\n",
       "      <td>4</td>\n",
       "      <td>4</td>\n",
       "    </tr>\n",
       "    <tr>\n",
       "      <th>top</th>\n",
       "      <td>RT1</td>\n",
       "      <td>Standard</td>\n",
       "    </tr>\n",
       "    <tr>\n",
       "      <th>freq</th>\n",
       "      <td>1</td>\n",
       "      <td>1</td>\n",
       "    </tr>\n",
       "  </tbody>\n",
       "</table>\n",
       "</div>"
      ],
      "text/plain": [
       "       room_id room_class\n",
       "count        4          4\n",
       "unique       4          4\n",
       "top        RT1   Standard\n",
       "freq         1          1"
      ]
     },
     "execution_count": 11,
     "metadata": {},
     "output_type": "execute_result"
    }
   ],
   "source": [
    "dim_rooms.describe()"
   ]
  },
  {
   "cell_type": "code",
   "execution_count": 12,
   "id": "c70688dc-87b8-4163-ac7e-6ae257d14405",
   "metadata": {},
   "outputs": [
    {
     "name": "stdout",
     "output_type": "stream",
     "text": [
      "<class 'pandas.core.frame.DataFrame'>\n",
      "RangeIndex: 9200 entries, 0 to 9199\n",
      "Data columns (total 5 columns):\n",
      " #   Column               Non-Null Count  Dtype \n",
      "---  ------               --------------  ----- \n",
      " 0   property_id          9200 non-null   int64 \n",
      " 1   check_in_date        9200 non-null   object\n",
      " 2   room_category        9200 non-null   object\n",
      " 3   successful_bookings  9200 non-null   int64 \n",
      " 4   capacity             9200 non-null   int64 \n",
      "dtypes: int64(3), object(2)\n",
      "memory usage: 359.5+ KB\n"
     ]
    }
   ],
   "source": [
    "fact_aggregated_bookings.info()"
   ]
  },
  {
   "cell_type": "code",
   "execution_count": 13,
   "id": "1b35e314-3195-4f13-9bfc-692bf24ba0c7",
   "metadata": {},
   "outputs": [
    {
     "data": {
      "text/html": [
       "<div>\n",
       "<style scoped>\n",
       "    .dataframe tbody tr th:only-of-type {\n",
       "        vertical-align: middle;\n",
       "    }\n",
       "\n",
       "    .dataframe tbody tr th {\n",
       "        vertical-align: top;\n",
       "    }\n",
       "\n",
       "    .dataframe thead th {\n",
       "        text-align: right;\n",
       "    }\n",
       "</style>\n",
       "<table border=\"1\" class=\"dataframe\">\n",
       "  <thead>\n",
       "    <tr style=\"text-align: right;\">\n",
       "      <th></th>\n",
       "      <th>property_id</th>\n",
       "      <th>check_in_date</th>\n",
       "      <th>room_category</th>\n",
       "      <th>successful_bookings</th>\n",
       "      <th>capacity</th>\n",
       "    </tr>\n",
       "  </thead>\n",
       "  <tbody>\n",
       "    <tr>\n",
       "      <th>0</th>\n",
       "      <td>16559</td>\n",
       "      <td>01-May-22</td>\n",
       "      <td>RT1</td>\n",
       "      <td>25</td>\n",
       "      <td>30</td>\n",
       "    </tr>\n",
       "    <tr>\n",
       "      <th>1</th>\n",
       "      <td>19562</td>\n",
       "      <td>01-May-22</td>\n",
       "      <td>RT1</td>\n",
       "      <td>28</td>\n",
       "      <td>30</td>\n",
       "    </tr>\n",
       "    <tr>\n",
       "      <th>2</th>\n",
       "      <td>19563</td>\n",
       "      <td>01-May-22</td>\n",
       "      <td>RT1</td>\n",
       "      <td>23</td>\n",
       "      <td>30</td>\n",
       "    </tr>\n",
       "    <tr>\n",
       "      <th>3</th>\n",
       "      <td>17558</td>\n",
       "      <td>01-May-22</td>\n",
       "      <td>RT1</td>\n",
       "      <td>13</td>\n",
       "      <td>19</td>\n",
       "    </tr>\n",
       "    <tr>\n",
       "      <th>4</th>\n",
       "      <td>16558</td>\n",
       "      <td>01-May-22</td>\n",
       "      <td>RT1</td>\n",
       "      <td>18</td>\n",
       "      <td>19</td>\n",
       "    </tr>\n",
       "  </tbody>\n",
       "</table>\n",
       "</div>"
      ],
      "text/plain": [
       "   property_id check_in_date room_category  successful_bookings  capacity\n",
       "0        16559     01-May-22           RT1                   25        30\n",
       "1        19562     01-May-22           RT1                   28        30\n",
       "2        19563     01-May-22           RT1                   23        30\n",
       "3        17558     01-May-22           RT1                   13        19\n",
       "4        16558     01-May-22           RT1                   18        19"
      ]
     },
     "execution_count": 13,
     "metadata": {},
     "output_type": "execute_result"
    }
   ],
   "source": [
    "fact_aggregated_bookings.head()"
   ]
  },
  {
   "cell_type": "code",
   "execution_count": 14,
   "id": "8a445842-790a-46ff-92c1-a2b696149b72",
   "metadata": {},
   "outputs": [
    {
     "data": {
      "text/html": [
       "<div>\n",
       "<style scoped>\n",
       "    .dataframe tbody tr th:only-of-type {\n",
       "        vertical-align: middle;\n",
       "    }\n",
       "\n",
       "    .dataframe tbody tr th {\n",
       "        vertical-align: top;\n",
       "    }\n",
       "\n",
       "    .dataframe thead th {\n",
       "        text-align: right;\n",
       "    }\n",
       "</style>\n",
       "<table border=\"1\" class=\"dataframe\">\n",
       "  <thead>\n",
       "    <tr style=\"text-align: right;\">\n",
       "      <th></th>\n",
       "      <th>property_id</th>\n",
       "      <th>successful_bookings</th>\n",
       "      <th>capacity</th>\n",
       "    </tr>\n",
       "  </thead>\n",
       "  <tbody>\n",
       "    <tr>\n",
       "      <th>count</th>\n",
       "      <td>9200.000000</td>\n",
       "      <td>9200.000000</td>\n",
       "      <td>9200.000000</td>\n",
       "    </tr>\n",
       "    <tr>\n",
       "      <th>mean</th>\n",
       "      <td>18040.640000</td>\n",
       "      <td>14.629348</td>\n",
       "      <td>25.280000</td>\n",
       "    </tr>\n",
       "    <tr>\n",
       "      <th>std</th>\n",
       "      <td>1099.818325</td>\n",
       "      <td>7.591770</td>\n",
       "      <td>11.440971</td>\n",
       "    </tr>\n",
       "    <tr>\n",
       "      <th>min</th>\n",
       "      <td>16558.000000</td>\n",
       "      <td>1.000000</td>\n",
       "      <td>3.000000</td>\n",
       "    </tr>\n",
       "    <tr>\n",
       "      <th>25%</th>\n",
       "      <td>17558.000000</td>\n",
       "      <td>9.000000</td>\n",
       "      <td>18.000000</td>\n",
       "    </tr>\n",
       "    <tr>\n",
       "      <th>50%</th>\n",
       "      <td>17564.000000</td>\n",
       "      <td>14.000000</td>\n",
       "      <td>25.000000</td>\n",
       "    </tr>\n",
       "    <tr>\n",
       "      <th>75%</th>\n",
       "      <td>18563.000000</td>\n",
       "      <td>19.000000</td>\n",
       "      <td>34.000000</td>\n",
       "    </tr>\n",
       "    <tr>\n",
       "      <th>max</th>\n",
       "      <td>19563.000000</td>\n",
       "      <td>43.000000</td>\n",
       "      <td>50.000000</td>\n",
       "    </tr>\n",
       "  </tbody>\n",
       "</table>\n",
       "</div>"
      ],
      "text/plain": [
       "        property_id  successful_bookings     capacity\n",
       "count   9200.000000          9200.000000  9200.000000\n",
       "mean   18040.640000            14.629348    25.280000\n",
       "std     1099.818325             7.591770    11.440971\n",
       "min    16558.000000             1.000000     3.000000\n",
       "25%    17558.000000             9.000000    18.000000\n",
       "50%    17564.000000            14.000000    25.000000\n",
       "75%    18563.000000            19.000000    34.000000\n",
       "max    19563.000000            43.000000    50.000000"
      ]
     },
     "execution_count": 14,
     "metadata": {},
     "output_type": "execute_result"
    }
   ],
   "source": [
    "fact_aggregated_bookings.describe()"
   ]
  },
  {
   "cell_type": "code",
   "execution_count": 15,
   "id": "18db159f-0458-414b-b919-813ebc63dde2",
   "metadata": {},
   "outputs": [
    {
     "name": "stdout",
     "output_type": "stream",
     "text": [
      "<class 'pandas.core.frame.DataFrame'>\n",
      "RangeIndex: 134590 entries, 0 to 134589\n",
      "Data columns (total 12 columns):\n",
      " #   Column             Non-Null Count   Dtype  \n",
      "---  ------             --------------   -----  \n",
      " 0   booking_id         134590 non-null  object \n",
      " 1   property_id        134590 non-null  int64  \n",
      " 2   booking_date       134590 non-null  object \n",
      " 3   check_in_date      134590 non-null  object \n",
      " 4   checkout_date      134590 non-null  object \n",
      " 5   no_guests          134590 non-null  int64  \n",
      " 6   room_category      134590 non-null  object \n",
      " 7   booking_platform   134590 non-null  object \n",
      " 8   ratings_given      56683 non-null   float64\n",
      " 9   booking_status     134590 non-null  object \n",
      " 10  revenue_generated  134590 non-null  int64  \n",
      " 11  revenue_realized   134590 non-null  int64  \n",
      "dtypes: float64(1), int64(4), object(7)\n",
      "memory usage: 12.3+ MB\n"
     ]
    }
   ],
   "source": [
    "fact_bookings.info()"
   ]
  },
  {
   "cell_type": "code",
   "execution_count": 16,
   "id": "ad6bcaeb-03a9-490d-b0ec-6f7f7d78ea85",
   "metadata": {},
   "outputs": [
    {
     "data": {
      "text/html": [
       "<div>\n",
       "<style scoped>\n",
       "    .dataframe tbody tr th:only-of-type {\n",
       "        vertical-align: middle;\n",
       "    }\n",
       "\n",
       "    .dataframe tbody tr th {\n",
       "        vertical-align: top;\n",
       "    }\n",
       "\n",
       "    .dataframe thead th {\n",
       "        text-align: right;\n",
       "    }\n",
       "</style>\n",
       "<table border=\"1\" class=\"dataframe\">\n",
       "  <thead>\n",
       "    <tr style=\"text-align: right;\">\n",
       "      <th></th>\n",
       "      <th>booking_id</th>\n",
       "      <th>property_id</th>\n",
       "      <th>booking_date</th>\n",
       "      <th>check_in_date</th>\n",
       "      <th>checkout_date</th>\n",
       "      <th>no_guests</th>\n",
       "      <th>room_category</th>\n",
       "      <th>booking_platform</th>\n",
       "      <th>ratings_given</th>\n",
       "      <th>booking_status</th>\n",
       "      <th>revenue_generated</th>\n",
       "      <th>revenue_realized</th>\n",
       "    </tr>\n",
       "  </thead>\n",
       "  <tbody>\n",
       "    <tr>\n",
       "      <th>0</th>\n",
       "      <td>May012216558RT11</td>\n",
       "      <td>16558</td>\n",
       "      <td>2022-04-27</td>\n",
       "      <td>2022-05-01</td>\n",
       "      <td>2022-05-02</td>\n",
       "      <td>3</td>\n",
       "      <td>RT1</td>\n",
       "      <td>direct online</td>\n",
       "      <td>1.0</td>\n",
       "      <td>Checked Out</td>\n",
       "      <td>10010</td>\n",
       "      <td>10010</td>\n",
       "    </tr>\n",
       "    <tr>\n",
       "      <th>1</th>\n",
       "      <td>May012216558RT12</td>\n",
       "      <td>16558</td>\n",
       "      <td>2022-04-30</td>\n",
       "      <td>2022-05-01</td>\n",
       "      <td>2022-05-02</td>\n",
       "      <td>2</td>\n",
       "      <td>RT1</td>\n",
       "      <td>others</td>\n",
       "      <td>NaN</td>\n",
       "      <td>Cancelled</td>\n",
       "      <td>9100</td>\n",
       "      <td>3640</td>\n",
       "    </tr>\n",
       "    <tr>\n",
       "      <th>2</th>\n",
       "      <td>May012216558RT13</td>\n",
       "      <td>16558</td>\n",
       "      <td>2022-04-28</td>\n",
       "      <td>2022-05-01</td>\n",
       "      <td>2022-05-04</td>\n",
       "      <td>2</td>\n",
       "      <td>RT1</td>\n",
       "      <td>logtrip</td>\n",
       "      <td>5.0</td>\n",
       "      <td>Checked Out</td>\n",
       "      <td>9100</td>\n",
       "      <td>9100</td>\n",
       "    </tr>\n",
       "    <tr>\n",
       "      <th>3</th>\n",
       "      <td>May012216558RT14</td>\n",
       "      <td>16558</td>\n",
       "      <td>2022-04-28</td>\n",
       "      <td>2022-05-01</td>\n",
       "      <td>2022-05-02</td>\n",
       "      <td>2</td>\n",
       "      <td>RT1</td>\n",
       "      <td>others</td>\n",
       "      <td>NaN</td>\n",
       "      <td>Cancelled</td>\n",
       "      <td>9100</td>\n",
       "      <td>3640</td>\n",
       "    </tr>\n",
       "    <tr>\n",
       "      <th>4</th>\n",
       "      <td>May012216558RT15</td>\n",
       "      <td>16558</td>\n",
       "      <td>2022-04-27</td>\n",
       "      <td>2022-05-01</td>\n",
       "      <td>2022-05-02</td>\n",
       "      <td>4</td>\n",
       "      <td>RT1</td>\n",
       "      <td>direct online</td>\n",
       "      <td>5.0</td>\n",
       "      <td>Checked Out</td>\n",
       "      <td>10920</td>\n",
       "      <td>10920</td>\n",
       "    </tr>\n",
       "  </tbody>\n",
       "</table>\n",
       "</div>"
      ],
      "text/plain": [
       "         booking_id  property_id booking_date check_in_date checkout_date  \\\n",
       "0  May012216558RT11        16558   2022-04-27    2022-05-01    2022-05-02   \n",
       "1  May012216558RT12        16558   2022-04-30    2022-05-01    2022-05-02   \n",
       "2  May012216558RT13        16558   2022-04-28    2022-05-01    2022-05-04   \n",
       "3  May012216558RT14        16558   2022-04-28    2022-05-01    2022-05-02   \n",
       "4  May012216558RT15        16558   2022-04-27    2022-05-01    2022-05-02   \n",
       "\n",
       "   no_guests room_category booking_platform  ratings_given booking_status  \\\n",
       "0          3           RT1    direct online            1.0    Checked Out   \n",
       "1          2           RT1           others            NaN      Cancelled   \n",
       "2          2           RT1          logtrip            5.0    Checked Out   \n",
       "3          2           RT1           others            NaN      Cancelled   \n",
       "4          4           RT1    direct online            5.0    Checked Out   \n",
       "\n",
       "   revenue_generated  revenue_realized  \n",
       "0              10010             10010  \n",
       "1               9100              3640  \n",
       "2               9100              9100  \n",
       "3               9100              3640  \n",
       "4              10920             10920  "
      ]
     },
     "execution_count": 16,
     "metadata": {},
     "output_type": "execute_result"
    }
   ],
   "source": [
    "fact_bookings.head()"
   ]
  },
  {
   "cell_type": "code",
   "execution_count": 17,
   "id": "46a2def7-7a3f-4dfa-868a-c3e60f344036",
   "metadata": {},
   "outputs": [
    {
     "data": {
      "text/html": [
       "<div>\n",
       "<style scoped>\n",
       "    .dataframe tbody tr th:only-of-type {\n",
       "        vertical-align: middle;\n",
       "    }\n",
       "\n",
       "    .dataframe tbody tr th {\n",
       "        vertical-align: top;\n",
       "    }\n",
       "\n",
       "    .dataframe thead th {\n",
       "        text-align: right;\n",
       "    }\n",
       "</style>\n",
       "<table border=\"1\" class=\"dataframe\">\n",
       "  <thead>\n",
       "    <tr style=\"text-align: right;\">\n",
       "      <th></th>\n",
       "      <th>property_id</th>\n",
       "      <th>no_guests</th>\n",
       "      <th>ratings_given</th>\n",
       "      <th>revenue_generated</th>\n",
       "      <th>revenue_realized</th>\n",
       "    </tr>\n",
       "  </thead>\n",
       "  <tbody>\n",
       "    <tr>\n",
       "      <th>count</th>\n",
       "      <td>134590.000000</td>\n",
       "      <td>134590.000000</td>\n",
       "      <td>56683.000000</td>\n",
       "      <td>134590.000000</td>\n",
       "      <td>134590.000000</td>\n",
       "    </tr>\n",
       "    <tr>\n",
       "      <th>mean</th>\n",
       "      <td>18061.113493</td>\n",
       "      <td>2.036808</td>\n",
       "      <td>3.619004</td>\n",
       "      <td>14916.013188</td>\n",
       "      <td>12696.123256</td>\n",
       "    </tr>\n",
       "    <tr>\n",
       "      <th>std</th>\n",
       "      <td>1093.055847</td>\n",
       "      <td>1.031766</td>\n",
       "      <td>1.235009</td>\n",
       "      <td>6452.868072</td>\n",
       "      <td>6928.108124</td>\n",
       "    </tr>\n",
       "    <tr>\n",
       "      <th>min</th>\n",
       "      <td>16558.000000</td>\n",
       "      <td>1.000000</td>\n",
       "      <td>1.000000</td>\n",
       "      <td>6500.000000</td>\n",
       "      <td>2600.000000</td>\n",
       "    </tr>\n",
       "    <tr>\n",
       "      <th>25%</th>\n",
       "      <td>17558.000000</td>\n",
       "      <td>1.000000</td>\n",
       "      <td>3.000000</td>\n",
       "      <td>9900.000000</td>\n",
       "      <td>7600.000000</td>\n",
       "    </tr>\n",
       "    <tr>\n",
       "      <th>50%</th>\n",
       "      <td>17564.000000</td>\n",
       "      <td>2.000000</td>\n",
       "      <td>4.000000</td>\n",
       "      <td>13500.000000</td>\n",
       "      <td>11700.000000</td>\n",
       "    </tr>\n",
       "    <tr>\n",
       "      <th>75%</th>\n",
       "      <td>18563.000000</td>\n",
       "      <td>2.000000</td>\n",
       "      <td>5.000000</td>\n",
       "      <td>18000.000000</td>\n",
       "      <td>15300.000000</td>\n",
       "    </tr>\n",
       "    <tr>\n",
       "      <th>max</th>\n",
       "      <td>19563.000000</td>\n",
       "      <td>6.000000</td>\n",
       "      <td>5.000000</td>\n",
       "      <td>45220.000000</td>\n",
       "      <td>45220.000000</td>\n",
       "    </tr>\n",
       "  </tbody>\n",
       "</table>\n",
       "</div>"
      ],
      "text/plain": [
       "         property_id      no_guests  ratings_given  revenue_generated  \\\n",
       "count  134590.000000  134590.000000   56683.000000      134590.000000   \n",
       "mean    18061.113493       2.036808       3.619004       14916.013188   \n",
       "std      1093.055847       1.031766       1.235009        6452.868072   \n",
       "min     16558.000000       1.000000       1.000000        6500.000000   \n",
       "25%     17558.000000       1.000000       3.000000        9900.000000   \n",
       "50%     17564.000000       2.000000       4.000000       13500.000000   \n",
       "75%     18563.000000       2.000000       5.000000       18000.000000   \n",
       "max     19563.000000       6.000000       5.000000       45220.000000   \n",
       "\n",
       "       revenue_realized  \n",
       "count     134590.000000  \n",
       "mean       12696.123256  \n",
       "std         6928.108124  \n",
       "min         2600.000000  \n",
       "25%         7600.000000  \n",
       "50%        11700.000000  \n",
       "75%        15300.000000  \n",
       "max        45220.000000  "
      ]
     },
     "execution_count": 17,
     "metadata": {},
     "output_type": "execute_result"
    }
   ],
   "source": [
    "fact_bookings.describe()"
   ]
  },
  {
   "cell_type": "markdown",
   "id": "59bdc380-a1b2-4ea4-9274-daddc7035d30",
   "metadata": {},
   "source": [
    "## **Cleaning, Filtering & Transforming Data**"
   ]
  },
  {
   "cell_type": "code",
   "execution_count": 18,
   "id": "79345ac4-b4f8-4c54-8771-43feec511685",
   "metadata": {},
   "outputs": [],
   "source": [
    "# Convert 'date' in dim_date to datetime in the format YYYY-MM-DD\n",
    "dim_date['date'] = pd.to_datetime(dim_date['date'], format='%d-%b-%y', errors='coerce')"
   ]
  },
  {
   "cell_type": "code",
   "execution_count": 19,
   "id": "7cf7bbb9-8580-451d-a415-05a6df2a370e",
   "metadata": {},
   "outputs": [
    {
     "name": "stdout",
     "output_type": "stream",
     "text": [
      "Sample converted date values in dim_date:\n",
      "0   2022-05-01\n",
      "1   2022-05-02\n",
      "2   2022-05-03\n",
      "3   2022-05-04\n",
      "4   2022-05-05\n",
      "5   2022-05-06\n",
      "6   2022-05-07\n",
      "7   2022-05-08\n",
      "8   2022-05-09\n",
      "9   2022-05-10\n",
      "Name: date, dtype: datetime64[ns]\n"
     ]
    }
   ],
   "source": [
    "# Verify conversion\n",
    "print(\"Sample converted date values in dim_date:\")\n",
    "print(dim_date['date'].head(10))\n"
   ]
  },
  {
   "cell_type": "code",
   "execution_count": 20,
   "id": "85587e89-2fd8-458f-b7ab-9af754c0a411",
   "metadata": {},
   "outputs": [
    {
     "name": "stdout",
     "output_type": "stream",
     "text": [
      "After merging fact_bookings with dim_hotels:\n",
      "         booking_id  property_id booking_date check_in_date checkout_date  \\\n",
      "0  May012216558RT11        16558   2022-04-27    2022-05-01    2022-05-02   \n",
      "1  May012216558RT12        16558   2022-04-30    2022-05-01    2022-05-02   \n",
      "2  May012216558RT13        16558   2022-04-28    2022-05-01    2022-05-04   \n",
      "3  May012216558RT14        16558   2022-04-28    2022-05-01    2022-05-02   \n",
      "4  May012216558RT15        16558   2022-04-27    2022-05-01    2022-05-02   \n",
      "\n",
      "   no_guests room_category booking_platform  ratings_given booking_status  \\\n",
      "0          3           RT1    direct online            1.0    Checked Out   \n",
      "1          2           RT1           others            NaN      Cancelled   \n",
      "2          2           RT1          logtrip            5.0    Checked Out   \n",
      "3          2           RT1           others            NaN      Cancelled   \n",
      "4          4           RT1    direct online            5.0    Checked Out   \n",
      "\n",
      "   revenue_generated  revenue_realized property_name category   city  \n",
      "0              10010             10010  Atliq Grands   Luxury  Delhi  \n",
      "1               9100              3640  Atliq Grands   Luxury  Delhi  \n",
      "2               9100              9100  Atliq Grands   Luxury  Delhi  \n",
      "3               9100              3640  Atliq Grands   Luxury  Delhi  \n",
      "4              10920             10920  Atliq Grands   Luxury  Delhi  \n"
     ]
    }
   ],
   "source": [
    "# Merge fact_bookings with dim_hotels\n",
    "combined_data = pd.merge(fact_bookings, dim_hotels, on='property_id', how='left')\n",
    "print(\"After merging fact_bookings with dim_hotels:\")\n",
    "print(combined_data.head())"
   ]
  },
  {
   "cell_type": "code",
   "execution_count": 21,
   "id": "cf42fc49-74c8-49e9-8d2e-83a8fd6adfc9",
   "metadata": {},
   "outputs": [
    {
     "name": "stdout",
     "output_type": "stream",
     "text": [
      "After merging with dim_rooms:\n",
      "         booking_id  property_id booking_date check_in_date checkout_date  \\\n",
      "0  May012216558RT11        16558   2022-04-27    2022-05-01    2022-05-02   \n",
      "1  May012216558RT12        16558   2022-04-30    2022-05-01    2022-05-02   \n",
      "2  May012216558RT13        16558   2022-04-28    2022-05-01    2022-05-04   \n",
      "3  May012216558RT14        16558   2022-04-28    2022-05-01    2022-05-02   \n",
      "4  May012216558RT15        16558   2022-04-27    2022-05-01    2022-05-02   \n",
      "\n",
      "   no_guests room_category booking_platform  ratings_given booking_status  \\\n",
      "0          3           RT1    direct online            1.0    Checked Out   \n",
      "1          2           RT1           others            NaN      Cancelled   \n",
      "2          2           RT1          logtrip            5.0    Checked Out   \n",
      "3          2           RT1           others            NaN      Cancelled   \n",
      "4          4           RT1    direct online            5.0    Checked Out   \n",
      "\n",
      "   revenue_generated  revenue_realized property_name category   city room_id  \\\n",
      "0              10010             10010  Atliq Grands   Luxury  Delhi     RT1   \n",
      "1               9100              3640  Atliq Grands   Luxury  Delhi     RT1   \n",
      "2               9100              9100  Atliq Grands   Luxury  Delhi     RT1   \n",
      "3               9100              3640  Atliq Grands   Luxury  Delhi     RT1   \n",
      "4              10920             10920  Atliq Grands   Luxury  Delhi     RT1   \n",
      "\n",
      "  room_class  \n",
      "0   Standard  \n",
      "1   Standard  \n",
      "2   Standard  \n",
      "3   Standard  \n",
      "4   Standard  \n"
     ]
    }
   ],
   "source": [
    "# Merge with dim_rooms using room_category to room_id\n",
    "combined_data = pd.merge(combined_data, dim_rooms, left_on='room_category', right_on='room_id', how='left')\n",
    "print(\"After merging with dim_rooms:\")\n",
    "print(combined_data.head())"
   ]
  },
  {
   "cell_type": "code",
   "execution_count": 22,
   "id": "50a17992-48ab-4e6f-9f90-526412e4c502",
   "metadata": {},
   "outputs": [],
   "source": [
    "# Convert booking_date and check_in_date to datetime\n",
    "combined_data['booking_date'] = pd.to_datetime(combined_data['booking_date'], format='%Y-%m-%d', errors='coerce')\n",
    "combined_data['check_in_date'] = pd.to_datetime(combined_data['check_in_date'], errors='coerce')"
   ]
  },
  {
   "cell_type": "code",
   "execution_count": 23,
   "id": "2a51c738-0603-491c-aba1-a0c671c609b6",
   "metadata": {},
   "outputs": [],
   "source": [
    "# Convert check_in_date in fact_aggregated_bookings to datetime\n",
    "fact_aggregated_bookings['check_in_date'] = pd.to_datetime(fact_aggregated_bookings['check_in_date'], format='%d-%b-%y', errors='coerce')"
   ]
  },
  {
   "cell_type": "code",
   "execution_count": 24,
   "id": "d96b4dcc-8d05-46e8-bad8-891df0c3c43d",
   "metadata": {},
   "outputs": [
    {
     "name": "stdout",
     "output_type": "stream",
     "text": [
      "booking_id                   object\n",
      "property_id                   int64\n",
      "booking_date         datetime64[ns]\n",
      "check_in_date        datetime64[ns]\n",
      "checkout_date                object\n",
      "no_guests                     int64\n",
      "room_category                object\n",
      "booking_platform             object\n",
      "ratings_given               float64\n",
      "booking_status               object\n",
      "revenue_generated             int64\n",
      "revenue_realized              int64\n",
      "property_name                object\n",
      "category                     object\n",
      "city                         object\n",
      "room_id                      object\n",
      "room_class                   object\n",
      "dtype: object\n",
      "property_id                     int64\n",
      "check_in_date          datetime64[ns]\n",
      "room_category                  object\n",
      "successful_bookings             int64\n",
      "capacity                        int64\n",
      "dtype: object\n"
     ]
    }
   ],
   "source": [
    "# Check the data types to ensure they match\n",
    "print(combined_data.dtypes)\n",
    "print(fact_aggregated_bookings.dtypes)"
   ]
  },
  {
   "cell_type": "code",
   "execution_count": 25,
   "id": "57effc21-37ee-4e5a-98d0-f4751899de0f",
   "metadata": {},
   "outputs": [
    {
     "name": "stdout",
     "output_type": "stream",
     "text": [
      "After merging with dim_date:\n",
      "         booking_id  property_id booking_date check_in_date checkout_date  \\\n",
      "0  May012216558RT11        16558   2022-04-27    2022-05-01    2022-05-02   \n",
      "1  May012216558RT12        16558   2022-04-30    2022-05-01    2022-05-02   \n",
      "2  May012216558RT13        16558   2022-04-28    2022-05-01    2022-05-04   \n",
      "3  May012216558RT14        16558   2022-04-28    2022-05-01    2022-05-02   \n",
      "4  May012216558RT15        16558   2022-04-27    2022-05-01    2022-05-02   \n",
      "\n",
      "   no_guests room_category booking_platform  ratings_given booking_status  \\\n",
      "0          3           RT1    direct online            1.0    Checked Out   \n",
      "1          2           RT1           others            NaN      Cancelled   \n",
      "2          2           RT1          logtrip            5.0    Checked Out   \n",
      "3          2           RT1           others            NaN      Cancelled   \n",
      "4          4           RT1    direct online            5.0    Checked Out   \n",
      "\n",
      "   ...  revenue_realized  property_name category   city room_id room_class  \\\n",
      "0  ...             10010   Atliq Grands   Luxury  Delhi     RT1   Standard   \n",
      "1  ...              3640   Atliq Grands   Luxury  Delhi     RT1   Standard   \n",
      "2  ...              9100   Atliq Grands   Luxury  Delhi     RT1   Standard   \n",
      "3  ...              3640   Atliq Grands   Luxury  Delhi     RT1   Standard   \n",
      "4  ...             10920   Atliq Grands   Luxury  Delhi     RT1   Standard   \n",
      "\n",
      "  date mmm yy week no day_type  \n",
      "0  NaT    NaN     NaN      NaN  \n",
      "1  NaT    NaN     NaN      NaN  \n",
      "2  NaT    NaN     NaN      NaN  \n",
      "3  NaT    NaN     NaN      NaN  \n",
      "4  NaT    NaN     NaN      NaN  \n",
      "\n",
      "[5 rows x 21 columns]\n"
     ]
    }
   ],
   "source": [
    "# Merge with dim_date using booking_date to date\n",
    "combined_data = pd.merge(combined_data, dim_date, left_on='booking_date', right_on='date', how='left')\n",
    "print(\"After merging with dim_date:\")\n",
    "print(combined_data.head())"
   ]
  },
  {
   "cell_type": "code",
   "execution_count": 26,
   "id": "bf3ba3a7-60e2-4737-b5c0-1cfbdc356a09",
   "metadata": {},
   "outputs": [],
   "source": [
    "# Convert date formats in fact_aggregated_bookings\n",
    "fact_aggregated_bookings['check_in_date'] = pd.to_datetime(fact_aggregated_bookings['check_in_date'], format='%d-%b-%y')"
   ]
  },
  {
   "cell_type": "code",
   "execution_count": 27,
   "id": "9a8cb7fd-03ec-478b-a0c5-8bdef6895fa2",
   "metadata": {},
   "outputs": [
    {
     "name": "stdout",
     "output_type": "stream",
     "text": [
      "After merging with fact_aggregated_bookings:\n",
      "         booking_id  property_id booking_date check_in_date checkout_date  \\\n",
      "0  May012216558RT11        16558   2022-04-27    2022-05-01    2022-05-02   \n",
      "1  May012216558RT12        16558   2022-04-30    2022-05-01    2022-05-02   \n",
      "2  May012216558RT13        16558   2022-04-28    2022-05-01    2022-05-04   \n",
      "3  May012216558RT14        16558   2022-04-28    2022-05-01    2022-05-02   \n",
      "4  May012216558RT15        16558   2022-04-27    2022-05-01    2022-05-02   \n",
      "\n",
      "   no_guests room_category booking_platform  ratings_given booking_status  \\\n",
      "0          3           RT1    direct online            1.0    Checked Out   \n",
      "1          2           RT1           others            NaN      Cancelled   \n",
      "2          2           RT1          logtrip            5.0    Checked Out   \n",
      "3          2           RT1           others            NaN      Cancelled   \n",
      "4          4           RT1    direct online            5.0    Checked Out   \n",
      "\n",
      "   ...  category   city room_id room_class date mmm yy week no day_type  \\\n",
      "0  ...    Luxury  Delhi     RT1   Standard  NaT    NaN     NaN      NaN   \n",
      "1  ...    Luxury  Delhi     RT1   Standard  NaT    NaN     NaN      NaN   \n",
      "2  ...    Luxury  Delhi     RT1   Standard  NaT    NaN     NaN      NaN   \n",
      "3  ...    Luxury  Delhi     RT1   Standard  NaT    NaN     NaN      NaN   \n",
      "4  ...    Luxury  Delhi     RT1   Standard  NaT    NaN     NaN      NaN   \n",
      "\n",
      "  successful_bookings capacity  \n",
      "0                  18       19  \n",
      "1                  18       19  \n",
      "2                  18       19  \n",
      "3                  18       19  \n",
      "4                  18       19  \n",
      "\n",
      "[5 rows x 23 columns]\n"
     ]
    }
   ],
   "source": [
    "# Merge combined_data with fact_aggregated_bookings\n",
    "combined_data = pd.merge(combined_data, fact_aggregated_bookings, on=['property_id', 'check_in_date', 'room_category'], how='left')\n",
    "print(\"After merging with fact_aggregated_bookings:\")\n",
    "print(combined_data.head())"
   ]
  },
  {
   "cell_type": "code",
   "execution_count": 28,
   "id": "4f000d68-7336-4346-a518-3c8c38caab84",
   "metadata": {},
   "outputs": [
    {
     "name": "stdout",
     "output_type": "stream",
     "text": [
      "Columns after merging with fact_aggregated_bookings:\n",
      "Index(['booking_id', 'property_id', 'booking_date', 'check_in_date',\n",
      "       'checkout_date', 'no_guests', 'room_category', 'booking_platform',\n",
      "       'ratings_given', 'booking_status', 'revenue_generated',\n",
      "       'revenue_realized', 'property_name', 'category', 'city', 'room_id',\n",
      "       'room_class', 'date', 'mmm yy', 'week no', 'day_type',\n",
      "       'successful_bookings', 'capacity'],\n",
      "      dtype='object')\n"
     ]
    }
   ],
   "source": [
    "# After merging with fact_aggregated_bookings\n",
    "print(\"Columns after merging with fact_aggregated_bookings:\")\n",
    "print(combined_data.columns)"
   ]
  },
  {
   "cell_type": "code",
   "execution_count": 29,
   "id": "c3bd4b4d-8fc6-48a8-88e4-3bcfa68dbe4a",
   "metadata": {},
   "outputs": [
    {
     "name": "stdout",
     "output_type": "stream",
     "text": [
      "Checking missing values in 'successful_bookings' and 'capacity':\n",
      "successful_bookings    0\n",
      "capacity               0\n",
      "dtype: int64\n"
     ]
    }
   ],
   "source": [
    "# Check for missing values in 'successful_bookings' and 'capacity'\n",
    "print(\"Checking missing values in 'successful_bookings' and 'capacity':\")\n",
    "print(combined_data[['successful_bookings', 'capacity']].isnull().sum())"
   ]
  },
  {
   "cell_type": "code",
   "execution_count": 30,
   "id": "8f08de33-0450-4a18-8423-8a7722e9ac14",
   "metadata": {},
   "outputs": [
    {
     "name": "stdout",
     "output_type": "stream",
     "text": [
      "Unique property_ids in fact_bookings:\n",
      "[16558 16559 16560 16561 16562 16563 17558 17559 17560 17561 17562 17563\n",
      " 18558 18559 18560 18561 18562 18563 19558 19559 19560 19561 19562 19563\n",
      " 17564]\n",
      "Unique property_ids in dim_hotels:\n",
      "[16558 16559 16560 16561 16562 16563 17558 17559 17560 17561 17562 17563\n",
      " 18558 18559 18560 18561 18562 18563 19558 19559 19560 19561 19562 19563\n",
      " 17564]\n",
      "Unique room_category in fact_bookings:\n",
      "['RT1' 'RT2' 'RT3' 'RT4']\n",
      "Unique room_id in dim_rooms:\n",
      "['RT1' 'RT2' 'RT3' 'RT4']\n"
     ]
    }
   ],
   "source": [
    "# Check the merge keys and DataFrames\n",
    "print(\"Unique property_ids in fact_bookings:\")\n",
    "print(fact_bookings['property_id'].unique())\n",
    "print(\"Unique property_ids in dim_hotels:\")\n",
    "print(dim_hotels['property_id'].unique())\n",
    "print(\"Unique room_category in fact_bookings:\")\n",
    "print(fact_bookings['room_category'].unique())\n",
    "print(\"Unique room_id in dim_rooms:\")\n",
    "print(dim_rooms['room_id'].unique())"
   ]
  },
  {
   "cell_type": "code",
   "execution_count": 31,
   "id": "a294c8fa-559d-48d9-b11e-17af23681ddc",
   "metadata": {},
   "outputs": [
    {
     "name": "stdout",
     "output_type": "stream",
     "text": [
      "Missing values in fact_aggregated_bookings:\n",
      "successful_bookings    0\n",
      "capacity               0\n",
      "dtype: int64\n",
      "Missing values in dim_rooms:\n",
      "room_id    0\n",
      "dtype: int64\n"
     ]
    }
   ],
   "source": [
    "# Check for missing values in the original data\n",
    "print(\"Missing values in fact_aggregated_bookings:\")\n",
    "print(fact_aggregated_bookings[['successful_bookings', 'capacity']].isnull().sum())\n",
    "print(\"Missing values in dim_rooms:\")\n",
    "print(dim_rooms[['room_id']].isnull().sum())"
   ]
  },
  {
   "cell_type": "code",
   "execution_count": 32,
   "id": "44151777-2a9f-45dd-b193-2fa8fb5f6bc7",
   "metadata": {},
   "outputs": [
    {
     "name": "stdout",
     "output_type": "stream",
     "text": [
      "First few rows of combined_data after merge:\n",
      "          booking_id  property_id booking_date check_in_date checkout_date  \\\n",
      "0   May012216558RT11        16558   2022-04-27    2022-05-01    2022-05-02   \n",
      "1   May012216558RT12        16558   2022-04-30    2022-05-01    2022-05-02   \n",
      "2   May012216558RT13        16558   2022-04-28    2022-05-01    2022-05-04   \n",
      "3   May012216558RT14        16558   2022-04-28    2022-05-01    2022-05-02   \n",
      "4   May012216558RT15        16558   2022-04-27    2022-05-01    2022-05-02   \n",
      "5   May012216558RT16        16558   2022-05-01    2022-05-01    2022-05-03   \n",
      "6   May012216558RT17        16558   2022-04-28    2022-05-01    2022-05-06   \n",
      "7   May012216558RT18        16558   2022-04-26    2022-05-01    2022-05-03   \n",
      "8   May012216558RT19        16558   2022-04-30    2022-05-01    2022-05-02   \n",
      "9  May012216558RT110        16558   2022-04-28    2022-05-01    2022-05-02   \n",
      "\n",
      "   no_guests room_category booking_platform  ratings_given booking_status  \\\n",
      "0          3           RT1    direct online            1.0    Checked Out   \n",
      "1          2           RT1           others            NaN      Cancelled   \n",
      "2          2           RT1          logtrip            5.0    Checked Out   \n",
      "3          2           RT1           others            NaN      Cancelled   \n",
      "4          4           RT1    direct online            5.0    Checked Out   \n",
      "5          2           RT1           others            4.0    Checked Out   \n",
      "6          2           RT1           others            NaN      Cancelled   \n",
      "7          2           RT1          logtrip            NaN        No Show   \n",
      "8          2           RT1         tripster            NaN    Checked Out   \n",
      "9          1           RT1           others            4.0    Checked Out   \n",
      "\n",
      "   ...  category   city room_id room_class       date  mmm yy week no  \\\n",
      "0  ...    Luxury  Delhi     RT1   Standard        NaT     NaN     NaN   \n",
      "1  ...    Luxury  Delhi     RT1   Standard        NaT     NaN     NaN   \n",
      "2  ...    Luxury  Delhi     RT1   Standard        NaT     NaN     NaN   \n",
      "3  ...    Luxury  Delhi     RT1   Standard        NaT     NaN     NaN   \n",
      "4  ...    Luxury  Delhi     RT1   Standard        NaT     NaN     NaN   \n",
      "5  ...    Luxury  Delhi     RT1   Standard 2022-05-01  May 22    W 19   \n",
      "6  ...    Luxury  Delhi     RT1   Standard        NaT     NaN     NaN   \n",
      "7  ...    Luxury  Delhi     RT1   Standard        NaT     NaN     NaN   \n",
      "8  ...    Luxury  Delhi     RT1   Standard        NaT     NaN     NaN   \n",
      "9  ...    Luxury  Delhi     RT1   Standard        NaT     NaN     NaN   \n",
      "\n",
      "  day_type successful_bookings capacity  \n",
      "0      NaN                  18       19  \n",
      "1      NaN                  18       19  \n",
      "2      NaN                  18       19  \n",
      "3      NaN                  18       19  \n",
      "4      NaN                  18       19  \n",
      "5  weekend                  18       19  \n",
      "6      NaN                  18       19  \n",
      "7      NaN                  18       19  \n",
      "8      NaN                  18       19  \n",
      "9      NaN                  18       19  \n",
      "\n",
      "[10 rows x 23 columns]\n"
     ]
    }
   ],
   "source": [
    "# Display combined data\n",
    "print(\"First few rows of combined_data after merge:\")\n",
    "print(combined_data.head(10))"
   ]
  },
  {
   "cell_type": "code",
   "execution_count": 33,
   "id": "7fbc8977-91c5-4b59-9084-a42c7486f0e7",
   "metadata": {},
   "outputs": [
    {
     "name": "stdout",
     "output_type": "stream",
     "text": [
      "Date range of combined_data:\n",
      "From: 2022-04-07 00:00:00 To: 2022-07-31 00:00:00\n"
     ]
    }
   ],
   "source": [
    "# Display date range of combined_data\n",
    "print(\"Date range of combined_data:\")\n",
    "print(f\"From: {combined_data['booking_date'].min()} To: {combined_data['booking_date'].max()}\")\n"
   ]
  },
  {
   "cell_type": "code",
   "execution_count": 34,
   "id": "e7784a33-71d2-4768-b942-1d9137e249f1",
   "metadata": {},
   "outputs": [
    {
     "name": "stdout",
     "output_type": "stream",
     "text": [
      "Date range of dim_date:\n",
      "From: 2022-05-01 00:00:00 To: 2022-07-31 00:00:00\n"
     ]
    }
   ],
   "source": [
    "# Display date range of dim_date\n",
    "print(\"Date range of dim_date:\")\n",
    "print(f\"From: {dim_date['date'].min()} To: {dim_date['date'].max()}\")"
   ]
  },
  {
   "cell_type": "code",
   "execution_count": 35,
   "id": "5b888a4a-6f37-4268-874d-a6aa3852d10d",
   "metadata": {},
   "outputs": [
    {
     "name": "stdout",
     "output_type": "stream",
     "text": [
      "Dates in combined_data before 2022-05-01:\n",
      "<DatetimeArray>\n",
      "['2022-04-27 00:00:00', '2022-04-30 00:00:00', '2022-04-28 00:00:00',\n",
      " '2022-04-26 00:00:00', '2022-04-29 00:00:00', '2022-04-07 00:00:00',\n",
      " '2022-04-10 00:00:00', '2022-04-25 00:00:00', '2022-04-24 00:00:00',\n",
      " '2022-04-11 00:00:00', '2022-04-08 00:00:00', '2022-04-12 00:00:00',\n",
      " '2022-04-13 00:00:00', '2022-04-09 00:00:00', '2022-04-14 00:00:00',\n",
      " '2022-04-15 00:00:00', '2022-04-16 00:00:00', '2022-04-17 00:00:00',\n",
      " '2022-04-18 00:00:00', '2022-04-19 00:00:00', '2022-04-20 00:00:00',\n",
      " '2022-04-21 00:00:00', '2022-04-22 00:00:00', '2022-04-23 00:00:00']\n",
      "Length: 24, dtype: datetime64[ns]\n"
     ]
    }
   ],
   "source": [
    "# Dates in combined_data that are before the start of dim_date\n",
    "early_dates = combined_data[combined_data['booking_date'] < '2022-05-01']['booking_date'].unique()\n",
    "print(\"Dates in combined_data before 2022-05-01:\")\n",
    "print(early_dates)"
   ]
  },
  {
   "cell_type": "code",
   "execution_count": 36,
   "id": "a4011504-ec2e-4d0a-90d7-9758ebb60db4",
   "metadata": {},
   "outputs": [],
   "source": [
    "# Drop rows where booking_date is before 2022-05-01\n",
    "combined_data_filtered = combined_data[combined_data['booking_date'] >= '2022-05-01']"
   ]
  },
  {
   "cell_type": "code",
   "execution_count": 37,
   "id": "f1589b24-c5f1-4400-8fc6-49172a4cdc9b",
   "metadata": {},
   "outputs": [
    {
     "name": "stdout",
     "output_type": "stream",
     "text": [
      "Number of duplicate rows in combined_data:\n",
      "0\n"
     ]
    }
   ],
   "source": [
    "# Check for duplicates\n",
    "print(\"Number of duplicate rows in combined_data:\")\n",
    "print(combined_data.duplicated().sum())"
   ]
  },
  {
   "cell_type": "code",
   "execution_count": 38,
   "id": "aeb84b16-cd73-48ba-86bc-2c51cbadef1e",
   "metadata": {},
   "outputs": [],
   "source": [
    "# Create a copy to avoid SettingWithCopyWarning\n",
    "combined_data_filtered = combined_data_filtered.copy()"
   ]
  },
  {
   "cell_type": "code",
   "execution_count": 39,
   "id": "0f162366-70af-4d87-9ab1-895499be7493",
   "metadata": {},
   "outputs": [],
   "source": [
    "# Handle missing values\n",
    "mean_rating = combined_data['ratings_given'].mean()\n",
    "combined_data['ratings_given'] = combined_data['ratings_given'].fillna(mean_rating)"
   ]
  },
  {
   "cell_type": "code",
   "execution_count": 40,
   "id": "022420bd-dcc1-48ba-8cca-2b0b5bfa07ed",
   "metadata": {},
   "outputs": [
    {
     "name": "stdout",
     "output_type": "stream",
     "text": [
      "Missing values in combined_data_filtered:\n",
      "booking_id                0\n",
      "property_id               0\n",
      "booking_date              0\n",
      "check_in_date             0\n",
      "checkout_date             0\n",
      "no_guests                 0\n",
      "room_category             0\n",
      "booking_platform          0\n",
      "ratings_given             0\n",
      "booking_status            0\n",
      "revenue_generated         0\n",
      "revenue_realized          0\n",
      "property_name             0\n",
      "category                  0\n",
      "city                      0\n",
      "room_id                   0\n",
      "room_class                0\n",
      "date                   5716\n",
      "mmm yy                 5716\n",
      "week no                5716\n",
      "day_type               5716\n",
      "successful_bookings       0\n",
      "capacity                  0\n",
      "dtype: int64\n"
     ]
    }
   ],
   "source": [
    "print(\"Missing values in combined_data_filtered:\")\n",
    "print(combined_data.isnull().sum())"
   ]
  },
  {
   "cell_type": "code",
   "execution_count": 41,
   "id": "067d4b55-45b6-4fb0-aa03-84c3e6adf963",
   "metadata": {},
   "outputs": [
    {
     "name": "stdout",
     "output_type": "stream",
     "text": [
      "Checking missing values in 'successful_bookings' and 'capacity' after filtering:\n",
      "successful_bookings    0\n",
      "capacity               0\n",
      "dtype: int64\n"
     ]
    }
   ],
   "source": [
    "# Ensure 'successful_bookings' and 'capacity' columns do not have missing values\n",
    "print(\"Checking missing values in 'successful_bookings' and 'capacity' after filtering:\")\n",
    "print(combined_data_filtered[['successful_bookings', 'capacity']].isnull().sum())"
   ]
  },
  {
   "cell_type": "code",
   "execution_count": 42,
   "id": "adbedf7e-c712-4ac1-9f9b-f7aacbf3f4b4",
   "metadata": {},
   "outputs": [
    {
     "name": "stdout",
     "output_type": "stream",
     "text": [
      "Missing values in combined_data_filtered:\n",
      "booking_id                 0\n",
      "property_id                0\n",
      "booking_date               0\n",
      "check_in_date              0\n",
      "checkout_date              0\n",
      "no_guests                  0\n",
      "room_category              0\n",
      "booking_platform           0\n",
      "ratings_given          74582\n",
      "booking_status             0\n",
      "revenue_generated          0\n",
      "revenue_realized           0\n",
      "property_name              0\n",
      "category                   0\n",
      "city                       0\n",
      "room_id                    0\n",
      "room_class                 0\n",
      "date                       0\n",
      "mmm yy                     0\n",
      "week no                    0\n",
      "day_type                   0\n",
      "successful_bookings        0\n",
      "capacity                   0\n",
      "dtype: int64\n"
     ]
    }
   ],
   "source": [
    "# Check for remaining missing values\n",
    "print(\"Missing values in combined_data_filtered:\")\n",
    "print(combined_data_filtered.isnull().sum())"
   ]
  },
  {
   "cell_type": "code",
   "execution_count": 43,
   "id": "0dce3ac7-6b83-4a05-9cc3-7f1690f374e8",
   "metadata": {},
   "outputs": [
    {
     "name": "stdout",
     "output_type": "stream",
     "text": [
      "Summary statistics of combined_data_filtered:\n",
      "         property_id                   booking_date  \\\n",
      "count  128874.000000                         128874   \n",
      "mean    18060.156967  2022-06-13 07:44:05.989105408   \n",
      "min     16558.000000            2022-05-01 00:00:00   \n",
      "25%     17558.000000            2022-05-22 00:00:00   \n",
      "50%     17564.000000            2022-06-13 00:00:00   \n",
      "75%     18563.000000            2022-07-05 00:00:00   \n",
      "max     19563.000000            2022-07-31 00:00:00   \n",
      "std      1093.056760                            NaN   \n",
      "\n",
      "                       check_in_date      no_guests  ratings_given  \\\n",
      "count                         128874  128874.000000   54292.000000   \n",
      "mean   2022-06-16 18:23:36.937474048       2.033575       3.616960   \n",
      "min              2022-05-01 00:00:00       1.000000       1.000000   \n",
      "25%              2022-05-26 00:00:00       1.000000       3.000000   \n",
      "50%              2022-06-17 00:00:00       2.000000       4.000000   \n",
      "75%              2022-07-09 00:00:00       2.000000       5.000000   \n",
      "max              2022-07-31 00:00:00       6.000000       5.000000   \n",
      "std                              NaN       1.033566       1.234883   \n",
      "\n",
      "       revenue_generated  revenue_realized                           date  \\\n",
      "count      128874.000000     128874.000000                         128874   \n",
      "mean        14918.868934      12703.554324  2022-06-13 07:44:05.989105408   \n",
      "min          6500.000000       2600.000000            2022-05-01 00:00:00   \n",
      "25%          9900.000000       7600.000000            2022-05-22 00:00:00   \n",
      "50%         13500.000000      11700.000000            2022-06-13 00:00:00   \n",
      "75%         18000.000000      15300.000000            2022-07-05 00:00:00   \n",
      "max         45220.000000      45220.000000            2022-07-31 00:00:00   \n",
      "std          6454.342408       6928.911646                            NaN   \n",
      "\n",
      "       successful_bookings       capacity  \n",
      "count        128874.000000  128874.000000  \n",
      "mean             18.527391      30.279172  \n",
      "min               1.000000       3.000000  \n",
      "25%              13.000000      23.000000  \n",
      "50%              18.000000      30.000000  \n",
      "75%              23.000000      40.000000  \n",
      "max              43.000000      50.000000  \n",
      "std               7.629581      10.152256  \n"
     ]
    }
   ],
   "source": [
    "# Summary statistics of combined_data_filtered\n",
    "print(\"Summary statistics of combined_data_filtered:\")\n",
    "print(combined_data_filtered.describe())"
   ]
  },
  {
   "cell_type": "code",
   "execution_count": 44,
   "id": "e25cb9f0-0612-4f1f-b2a4-9929f87b03df",
   "metadata": {},
   "outputs": [],
   "source": [
    "# Define the directory path\n",
    "output_directory = '/Users/gowth/Documents/!Career/Internship & Online Courses/!Internships/Unified Mentor Internship/Prj-4 AltiQ Hospitability Analysis'"
   ]
  },
  {
   "cell_type": "code",
   "execution_count": 45,
   "id": "583ac564-3dbf-497b-aac0-fb7348e75880",
   "metadata": {},
   "outputs": [],
   "source": [
    "# Create the directory if it does not exist\n",
    "if not os.path.exists(output_directory):\n",
    "    os.makedirs(output_directory)"
   ]
  },
  {
   "cell_type": "code",
   "execution_count": 46,
   "id": "ae5296cf-825e-4edb-b6cf-cd85b9d585ab",
   "metadata": {},
   "outputs": [],
   "source": [
    "# Define the full path for the output file\n",
    "output_path = os.path.join(output_directory, 'combined_atliq_data_filtered.csv')"
   ]
  },
  {
   "cell_type": "code",
   "execution_count": 47,
   "id": "326c9244-ecca-4a2d-b229-4fb6cf418f0f",
   "metadata": {},
   "outputs": [
    {
     "name": "stdout",
     "output_type": "stream",
     "text": [
      "DataFrame has been saved to CSV at /Users/gowth/Documents/!Career/Internship & Online Courses/!Internships/Unified Mentor Internship/Prj-4 AltiQ Hospitability Analysis\\combined_atliq_data_filtered.csv.\n"
     ]
    }
   ],
   "source": [
    "# Save the combined DataFrame to a CSV file\n",
    "combined_data_filtered.to_csv(output_path, index=False)\n",
    "print(f\"DataFrame has been saved to CSV at {output_path}.\")"
   ]
  },
  {
   "cell_type": "code",
   "execution_count": 48,
   "id": "3de47023-7b06-43d9-a900-d5bd1e3b5c3f",
   "metadata": {},
   "outputs": [],
   "source": [
    "# Define function to filter data\n",
    "def filter_data(df, city=None, property_name=None, status=None, platform=None, month=None, week=None):\n",
    "    if city:\n",
    "        df = df[df['city'] == city]\n",
    "    if property_name:\n",
    "        df = df[df['property_name'] == property_name]\n",
    "    if status:\n",
    "        df = df[df['booking_status'] == status]\n",
    "    if platform:\n",
    "        df = df[df['booking_platform'] == platform]\n",
    "    if month:\n",
    "        df = df[df['date'].dt.month == month]\n",
    "    if week:\n",
    "        df = df[df['date'].dt.isocalendar().week == week]\n",
    "    return df"
   ]
  },
  {
   "cell_type": "code",
   "execution_count": 49,
   "id": "41a5b46a-f8d3-40ad-823c-54c7381f0da3",
   "metadata": {},
   "outputs": [],
   "source": [
    "# Applying the filters as an example\n",
    "filtered_data = filter_data(combined_data_filtered, city='Mumbai', month=7)"
   ]
  },
  {
   "cell_type": "code",
   "execution_count": 50,
   "id": "094e690f-1a92-4d41-af4f-d753ebdbec41",
   "metadata": {},
   "outputs": [],
   "source": [
    "# Define function to calculate key performance metrics\n",
    "def calculate_metrics(df):\n",
    "    revenue = df['revenue_realized'].sum()\n",
    "    occupancy = df['successful_bookings'].sum() / df['capacity'].sum() * 100 if df['capacity'].sum() > 0 else 0\n",
    "    average_rating = df['ratings_given'].mean()\n",
    "    return revenue, occupancy, average_rating"
   ]
  },
  {
   "cell_type": "code",
   "execution_count": 51,
   "id": "be36b143-9ccb-49a9-af6c-13850576eaff",
   "metadata": {},
   "outputs": [
    {
     "name": "stdout",
     "output_type": "stream",
     "text": [
      "Revenue: 195696112\n",
      "Occupancy %: 60.59504443612832\n",
      "Average Rating: 3.6410399257195913\n"
     ]
    }
   ],
   "source": [
    "# Calculate metrics for filtered data\n",
    "revenue, occupancy, avg_rating = calculate_metrics(filtered_data)\n",
    "print(f\"Revenue: {revenue}\")\n",
    "print(f\"Occupancy %: {occupancy}\")\n",
    "print(f\"Average Rating: {avg_rating}\")"
   ]
  },
  {
   "cell_type": "markdown",
   "id": "0e3d6b71-4125-428c-8241-f04a41d3a56a",
   "metadata": {},
   "source": [
    "## **Exploratory Data Analysis (EDA) & Data Visualizations**"
   ]
  },
  {
   "cell_type": "code",
   "execution_count": 52,
   "id": "b792b25e-daf0-4791-8ed8-4ee701ded1e3",
   "metadata": {},
   "outputs": [
    {
     "data": {
      "image/png": "[encoded data removed]",
      "text/plain": [
       "<Figure size 1000x600 with 1 Axes>"
      ]
     },
     "metadata": {},
     "output_type": "display_data"
    }
   ],
   "source": [
    "# Example: Distribution of revenue_generated\n",
    "plt.figure(figsize=(10, 6))\n",
    "sns.histplot(combined_data_filtered['revenue_generated'], bins=30, kde=True)\n",
    "plt.title('Distribution of Revenue Generated')\n",
    "plt.xlabel('Revenue Generated')\n",
    "plt.ylabel('Frequency')\n",
    "plt.show()"
   ]
  },
  {
   "cell_type": "code",
   "execution_count": 53,
   "id": "623e6cb8-3702-42df-926f-f81eb50f2712",
   "metadata": {},
   "outputs": [
    {
     "data": {
      "image/png": "[encoded data removed]",
      "text/plain": [
       "<Figure size 1000x600 with 1 Axes>"
      ]
     },
     "metadata": {},
     "output_type": "display_data"
    }
   ],
   "source": [
    "# Example: Ratings Given Distribution\n",
    "plt.figure(figsize=(10, 6))\n",
    "sns.histplot(combined_data_filtered['ratings_given'], bins=10, kde=True)\n",
    "plt.title('Distribution of Ratings Given')\n",
    "plt.xlabel('Ratings Given')\n",
    "plt.ylabel('Frequency')\n",
    "plt.show()"
   ]
  },
  {
   "cell_type": "code",
   "execution_count": 54,
   "id": "d5ceb3bd-68a5-4ff1-b77e-31521e4a6db2",
   "metadata": {},
   "outputs": [],
   "source": [
    "# Revenue, Occupancy %, and Average Rating Cards\n",
    "def display_metrics(revenue, occupancy, avg_rating):\n",
    "    print(f\"Total Revenue: {revenue}\")\n",
    "    print(f\"Occupancy %: {occupancy}\")\n",
    "    print(f\"Average Rating: {avg_rating}\")"
   ]
  },
  {
   "cell_type": "code",
   "execution_count": 55,
   "id": "d1fc9f5a-ac4b-4928-9a0f-48a085887b9f",
   "metadata": {},
   "outputs": [
    {
     "name": "stdout",
     "output_type": "stream",
     "text": [
      "Total Revenue: 1708771229\n",
      "Occupancy %: 61.343673347961015\n",
      "Average Rating: 3.619003934160154\n"
     ]
    }
   ],
   "source": [
    "# Display metrics for entire data\n",
    "revenue, occupancy, avg_rating = calculate_metrics(combined_data)\n",
    "display_metrics(revenue, occupancy, avg_rating)"
   ]
  },
  {
   "cell_type": "code",
   "execution_count": 56,
   "id": "46c6ccf6-b2de-4910-8b3a-91a73f72a90b",
   "metadata": {},
   "outputs": [
    {
     "data": {
      "text/plain": [
       "<function matplotlib.pyplot.ylabel(ylabel: 'str', fontdict: 'dict[str, Any] | None' = None, labelpad: 'float | None' = None, *, loc: \"Literal['bottom', 'center', 'top'] | None\" = None, **kwargs) -> 'Text'>"
      ]
     },
     "execution_count": 56,
     "metadata": {},
     "output_type": "execute_result"
    },
    {
     "data": {
      "image/png": "[encoded data removed]",
      "text/plain": [
       "<Figure size 1400x700 with 1 Axes>"
      ]
     },
     "metadata": {},
     "output_type": "display_data"
    }
   ],
   "source": [
    "# Revenue by City\n",
    "city_revenue = combined_data.groupby('city')['revenue_generated'].sum().reset_index()\n",
    "plt.figure(figsize=(14, 7))\n",
    "sns.barplot(data=city_revenue, x='city', y='revenue_generated')\n",
    "plt.title('Total Revenue by City')\n",
    "plt.xlabel('City')\n",
    "plt.ylabel"
   ]
  },
  {
   "cell_type": "code",
   "execution_count": 57,
   "id": "6f3c6273-e58c-4880-997f-45c03957c3b4",
   "metadata": {},
   "outputs": [
    {
     "data": {
      "image/png": "[encoded data removed]",
      "text/plain": [
       "<Figure size 1400x700 with 1 Axes>"
      ]
     },
     "metadata": {},
     "output_type": "display_data"
    }
   ],
   "source": [
    "# Compute occupancy by city\n",
    "city_occupancy = combined_data.groupby('city').agg(\n",
    "    occupancy_rate=('successful_bookings', lambda x: (x.sum() / combined_data.loc[x.index, 'capacity'].sum()) * 100 if combined_data.loc[x.index, 'capacity'].sum() > 0 else 0)\n",
    ").reset_index()\n",
    "plt.figure(figsize=(14, 7))\n",
    "sns.barplot(data=city_occupancy, x='city', y='occupancy_rate')\n",
    "plt.title('Occupancy Rate by City')\n",
    "plt.xlabel('City')\n",
    "plt.ylabel('Occupancy Rate (%)')\n",
    "plt.xticks(rotation=45)\n",
    "plt.show()"
   ]
  },
  {
   "cell_type": "code",
   "execution_count": 58,
   "id": "5954ddde-6e0c-45e6-a58b-c9531cc4c336",
   "metadata": {},
   "outputs": [
    {
     "data": {
      "image/png": "[encoded data removed]",
      "text/plain": [
       "<Figure size 1400x700 with 1 Axes>"
      ]
     },
     "metadata": {},
     "output_type": "display_data"
    }
   ],
   "source": [
    "# Revenue by Property\n",
    "property_revenue = combined_data.groupby('property_name')['revenue_generated'].sum().reset_index()\n",
    "plt.figure(figsize=(14, 7))\n",
    "sns.barplot(data=property_revenue, x='revenue_generated', y='property_name', orient='h')\n",
    "plt.title('Total Revenue by Property')\n",
    "plt.xlabel('Total Revenue Generated')\n",
    "plt.ylabel('Property Name')\n",
    "plt.show()"
   ]
  },
  {
   "cell_type": "code",
   "execution_count": 59,
   "id": "4000e94d-55a3-4458-a4ce-76e59f7ae0b2",
   "metadata": {},
   "outputs": [
    {
     "data": {
      "image/png": "[encoded data removed]",
      "text/plain": [
       "<Figure size 640x480 with 1 Axes>"
      ]
     },
     "metadata": {},
     "output_type": "display_data"
    },
    {
     "name": "stdout",
     "output_type": "stream",
     "text": [
      "plots for different Visualizations created\n"
     ]
    }
   ],
   "source": [
    "# Compute occupancy by property\n",
    "\n",
    "property_occupancy = combined_data.groupby('property_name').agg(occupancy_rate=('successful_bookings', lambda x: (x.sum() / combined_data.loc[x.index, 'capacity'].sum()) * 100 if combined_data.loc[x.index, 'capacity'].sum() > 0 else 0)).reset_index()\n",
    "sns.barplot(data=property_occupancy, x='occupancy_rate', y='property_name', orient='h')\n",
    "plt.title('Occupancy Rate by Property')\n",
    "plt.xlabel('Occupancy Rate (%)')\n",
    "plt.ylabel('Property Name')\n",
    "plt.show()\n",
    "print(\"plots for different Visualizations created\")"
   ]
  },
  {
   "cell_type": "code",
   "execution_count": null,
   "id": "9a6564cb-1561-4882-a2a4-38dc58f29a04",
   "metadata": {},
   "outputs": [],
   "source": []
  }
 ],
 "metadata": {
  "kernelspec": {
   "display_name": "Python 3 (ipykernel)",
   "language": "python",
   "name": "python3"
  },
  "language_info": {
   "codemirror_mode": {
    "name": "ipython",
    "version": 3
   },
   "file_extension": ".py",
   "mimetype": "text/x-python",
   "name": "python",
   "nbconvert_exporter": "python",
   "pygments_lexer": "ipython3",
   "version": "3.11.7"
  }
 },
 "nbformat": 4,
 "nbformat_minor": 5
}
